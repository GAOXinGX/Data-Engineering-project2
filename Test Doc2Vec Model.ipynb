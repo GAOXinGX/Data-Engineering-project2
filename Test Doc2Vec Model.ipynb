{
 "cells": [
  {
   "cell_type": "code",
   "execution_count": 1,
   "metadata": {},
   "outputs": [],
   "source": [
    "import pandas as pd\n",
    "from gensim.models import Doc2Vec\n",
    "model_test = Doc2Vec.load(\"doc2vec.model\")\n",
    "data  = pd.read_csv('Tweet_Processed.csv')"
   ]
  },
  {
   "cell_type": "markdown",
   "metadata": {},
   "source": [
    "## Search Orignal Tweets "
   ]
  },
  {
   "cell_type": "code",
   "execution_count": 7,
   "metadata": {},
   "outputs": [],
   "source": [
    "def get_result(strl):\n",
    "    tweet=list(data['ori_tweet']) # Cleaned Tweets: tweet=list(data['text'])\n",
    "    test_text=strl.split(' ')\n",
    "    inferred_vector=model_test.infer_vector(doc_words=test_text,alpha=0.025,steps=500)\n",
    "    sims=model_test.docvecs.most_similar([inferred_vector],topn=20)\n",
    "    for count,sim in sims:\n",
    "        print('Similar: %.2f%%' % (sim * 100))\n",
    "        sentence = tweet[count]\n",
    "        words=' '\n",
    "        for word in sentence:\n",
    "            words = words + word+''\n",
    "        print(words)\n",
    "    return"
   ]
  },
  {
   "cell_type": "code",
   "execution_count": 8,
   "metadata": {
    "scrolled": false
   },
   "outputs": [
    {
     "name": "stdout",
     "output_type": "stream",
     "text": [
      "Similar: 93.59%\n",
      " Who is more believable on the state of employment--the great @jack_welch or some government bureaucrat who is voting for Obama?\n",
      "Similar: 93.53%\n",
      " @chuckwoolery @billmaher Chuck--you are great--thanks!\n",
      "Similar: 93.44%\n",
      " Great, thanks.https://twitter.com/isaacbeisbol507/status/609345354564272128 …\n",
      "Similar: 92.95%\n",
      " Behind the scemes of my @CENTURY21 Super Bowl commercial http://youtu.be/Y6HWdR_11EI   Had a great time.\n",
      "Similar: 92.93%\n",
      " Michael Vick of the Philadelphia @eagles is a great athlete but not a great quarterback.\n",
      "Similar: 92.72%\n",
      " .@JustinRose99 Great playing--we are proud of you!\n",
      "Similar: 92.55%\n",
      " Congrats to @Yankees on finishing 1st in the AL East. Derek Jeter is great--good luck in the playoffs!\n",
      "Similar: 92.48%\n",
      " \"@jamesshelby: @realDonaldTrump What is your opinion on Tebow?\" Was destroyed at Jets-GREAT GUY-should have gone to Jacksonville!\n",
      "Similar: 92.06%\n",
      " Who is more believable on the state of employment--the great @jack_welch or some government bureaucrat who is voting for Obama?\n",
      "Similar: 92.02%\n",
      " “I’m a great believer in asking everyone for an opinion before I make a decision. It’s a natural reflex.” – The Art of The Deal\n",
      "Similar: 91.62%\n",
      " \"@mcjeff42: @realDonaldTrump you made SNL great again\"\n",
      "Similar: 91.42%\n",
      " \"@Adw5Weber: @realDonaldTrump thanks for the books you've written inspires me to take some risks and think big!!\"  Great.\n",
      "Similar: 91.28%\n",
      " @markrucci @e_hig  Great going Mark.\n",
      "Similar: 91.23%\n",
      " Just signed contract to purchase the Ritz Carlton in Jupiter, Florida--great land, great location, great future!\n",
      "Similar: 91.15%\n",
      " \"@FKTrey: Putting on the @realDonaldTrump tie is an essential to my morning routine\"   That's great!\n",
      "Similar: 91.14%\n",
      " .@AndreaTantaros’s radio show is a great addition to talk radio. She is sharp, talented, & great sense of humor. Congratulations.\n",
      "Similar: 91.00%\n",
      " Great knockout on Saturday by Juan Manuel Marquez on Manny Pacquiao.  A great fight!\n",
      "Similar: 90.92%\n",
      " @ImYourChloe She is also great!\n",
      "Similar: 90.84%\n",
      " One of the greatest tributes to a father I have ever witnessed--given to the great @jacknicklaus by his wonderful son http://www.c-span.org/video/?c4532989 \n",
      "Similar: 90.58%\n",
      " The late, great, William F. Buckley would be ashamed of what had happened to his prize, the dying National Review!\n"
     ]
    }
   ],
   "source": [
    "get_result('you are so great')"
   ]
  },
  {
   "cell_type": "markdown",
   "metadata": {},
   "source": [
    "## Search Processed Tweets"
   ]
  },
  {
   "cell_type": "code",
   "execution_count": 9,
   "metadata": {},
   "outputs": [],
   "source": [
    "def get_result(strl):\n",
    "    tweet=list(data['text'])\n",
    "    test_text=strl.split(' ')\n",
    "    inferred_vector=model_test.infer_vector(doc_words=test_text,alpha=0.025,steps=500)\n",
    "    sims=model_test.docvecs.most_similar([inferred_vector],topn=20)\n",
    "    for count,sim in sims:\n",
    "        print('Similar: %.2f%%' % (sim * 100))\n",
    "        sentence = tweet[count]\n",
    "        words=' '\n",
    "        for word in sentence:\n",
    "            words = words + word+''\n",
    "        print(words)\n",
    "    return"
   ]
  },
  {
   "cell_type": "code",
   "execution_count": 11,
   "metadata": {},
   "outputs": [
    {
     "name": "stdout",
     "output_type": "stream",
     "text": [
      "Similar: 94.04%\n",
      " social media changed news communication landscape good everything must date second instead hour day \n",
      "Similar: 93.59%\n",
      " steffanpiper good \n",
      "Similar: 93.56%\n",
      " jimmy farney queynewton great good luck james \n",
      "Similar: 93.04%\n",
      " also something really good say humility confident humble great combination maybe best \n",
      "Similar: 92.98%\n",
      " obama meet putin snd convince good called good dealmaking simply leadership cajole \n",
      "Similar: 92.73%\n",
      " democrats dropped references god platform good \n",
      "Similar: 92.54%\n",
      " bought tim tebow jersey helmet auction good cause fighting breast cancer \n",
      "Similar: 92.28%\n",
      " philegl good news congrats \n",
      "Similar: 92.15%\n",
      " fed considering issuing even us bond debt market good \n",
      "Similar: 92.06%\n",
      " bad manager barackobama continually plagued scandals leadership starts top \n",
      "Similar: 92.05%\n",
      " bought tim tebow jersey helmet auction good cause fighting breast cancer \n",
      "Similar: 91.80%\n",
      " hearing nrcc digital director lansing great work expanding modernizing gop social media good need \n",
      "Similar: 91.60%\n",
      " wsj bad math good news nobody cares say editorials anymore especially \n",
      "Similar: 91.60%\n",
      " democrats dropped references god platform good \n",
      "Similar: 91.60%\n",
      " good marcorubio trying eliminate tax olympic medals athletes taxed wins \n",
      "Similar: 91.52%\n",
      " carlosbeltran15 playing great st louis cardinals made wise decision \n",
      "Similar: 91.42%\n",
      " hotair25159 realdonaldtrump lol justice travis shows legal system still intact good news \n",
      "Similar: 91.39%\n",
      " congrats governorcorbett right suing ncaa ridiculous deal made trustees penn state \n",
      "Similar: 91.29%\n",
      " gleasondp good idea \n",
      "Similar: 91.26%\n",
      " 39caroline realdonaldtrump huffingtonpost ariannahuff good cos dont read huffington post garbage failing badly \n"
     ]
    }
   ],
   "source": [
    "get_result('this is a good news')"
   ]
  },
  {
   "cell_type": "code",
   "execution_count": null,
   "metadata": {},
   "outputs": [],
   "source": []
  }
 ],
 "metadata": {
  "kernelspec": {
   "display_name": "Python 3",
   "language": "python",
   "name": "python3"
  },
  "language_info": {
   "codemirror_mode": {
    "name": "ipython",
    "version": 3
   },
   "file_extension": ".py",
   "mimetype": "text/x-python",
   "name": "python",
   "nbconvert_exporter": "python",
   "pygments_lexer": "ipython3",
   "version": "3.6.4"
  }
 },
 "nbformat": 4,
 "nbformat_minor": 2
}
