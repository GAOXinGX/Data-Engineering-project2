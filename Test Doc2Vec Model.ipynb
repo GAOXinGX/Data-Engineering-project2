{
 "cells": [
  {
   "cell_type": "code",
   "execution_count": 11,
   "metadata": {},
   "outputs": [],
   "source": [
    "import pandas as pd\n",
    "from gensim.models import Doc2Vec\n",
    "model_test = Doc2Vec.load(\"doc2vec.model\")\n",
    "data  = pd.read_csv('Tweet_Processed.csv')"
   ]
  },
  {
   "cell_type": "code",
   "execution_count": 29,
   "metadata": {},
   "outputs": [
    {
     "name": "stdout",
     "output_type": "stream",
     "text": [
      "3609 0.9425746202468872\n",
      " great \n",
      "9699 0.9403828978538513\n",
      " justinrose99 great playing proud \n",
      "12453 0.9398725628852844\n",
      " chuckwoolery billmaher chuck great thanks \n",
      "13398 0.9381926655769348\n",
      " believable state employment great jack welch government bureaucrat voting obama \n",
      "15335 0.9372879266738892\n",
      " michael vick philadelphia eagles great athlete great quarterback \n",
      "13410 0.9358097910881042\n",
      " congrats yankees finishing 1st al east derek jeter great good luck playoffs \n",
      "14530 0.9349305629730225\n",
      " behind scemes century21 super bowl commercial great time \n",
      "12604 0.9333596229553223\n",
      " great believer asking everyone opinion make decision natural reflex art deal \n",
      "15458 0.9285283088684082\n",
      " believable state employment great jack welch government bureaucrat voting obama \n",
      "9322 0.9284012317657471\n",
      " jamesshelby realdonaldtrump opinion tebow destroyed jets great guy gone jacksonville \n",
      "2130 0.9270372986793518\n",
      " mcjeff42 realdonaldtrump made snl great \n",
      "12937 0.923540472984314\n",
      " signed contract purchase ritz carlton jupiter florida great land great location great future \n",
      "12088 0.923359751701355\n",
      " markrucci e hig great going mark \n",
      "10058 0.9207308888435364\n",
      " adw5weber realdonaldtrump thanks books written inspires take risks think big great \n",
      "4425 0.9179069995880127\n",
      " one greatest tributes father ever witnessed given great jacknicklaus wonderful son \n",
      "10099 0.9178604483604431\n",
      " fktrey putting realdonaldtrump tie essential morning routine great \n",
      "14997 0.9177380800247192\n",
      " signed contract purchase ritz carlton jupiter florida great land great location great future \n",
      "9877 0.9152936935424805\n",
      " barnard sonja realdonaldtrump wish confidence win win win develop great confidence \n",
      "14666 0.9151413440704346\n",
      " imyourchloe also great \n",
      "8616 0.9139574766159058\n",
      " great football game \n"
     ]
    }
   ],
   "source": [
    "#tweet_ori = list(data['ori_tweet'])\n",
    "tweet=list(data['text'])\n",
    "strl=u'you are so great'\n",
    "test_text=strl.split(' ')\n",
    "inferred_vector=model_test.infer_vector(doc_words=test_text,alpha=0.025,steps=500)\n",
    "sims=model_test.docvecs.most_similar([inferred_vector],topn=20)\n",
    "\n",
    "for count,sim in sims:\n",
    "    print(count,sim)\n",
    "    sentence = tweet[count]\n",
    "    words=' '\n",
    "    \n",
    "    for word in sentence:\n",
    "        words = words + word+''\n",
    "        \n",
    "    print(words)"
   ]
  },
  {
   "cell_type": "code",
   "execution_count": 31,
   "metadata": {},
   "outputs": [
    {
     "name": "stdout",
     "output_type": "stream",
     "text": [
      "9699 0.9478731155395508\n",
      " .@JustinRose99 Great playing--we are proud of you!\n",
      "3609 0.9404773116111755\n",
      " Great, thanks.https://twitter.com/isaacbeisbol507/status/609345354564272128 …\n",
      "12453 0.9394014477729797\n",
      " @chuckwoolery @billmaher Chuck--you are great--thanks!\n",
      "15335 0.9369809627532959\n",
      " Michael Vick of the Philadelphia @eagles is a great athlete but not a great quarterback.\n",
      "13410 0.935449481010437\n",
      " Congrats to @Yankees on finishing 1st in the AL East. Derek Jeter is great--good luck in the playoffs!\n",
      "12604 0.932707667350769\n",
      " “I’m a great believer in asking everyone for an opinion before I make a decision. It’s a natural reflex.” – The Art of The Deal\n",
      "14530 0.9313685297966003\n",
      " Behind the scemes of my @CENTURY21 Super Bowl commercial http://youtu.be/Y6HWdR_11EI   Had a great time.\n",
      "13398 0.9308542013168335\n",
      " Who is more believable on the state of employment--the great @jack_welch or some government bureaucrat who is voting for Obama?\n",
      "2130 0.9285335540771484\n",
      " \"@mcjeff42: @realDonaldTrump you made SNL great again\"\n",
      "9322 0.9250514507293701\n",
      " \"@jamesshelby: @realDonaldTrump What is your opinion on Tebow?\" Was destroyed at Jets-GREAT GUY-should have gone to Jacksonville!\n",
      "15458 0.9245235919952393\n",
      " Who is more believable on the state of employment--the great @jack_welch or some government bureaucrat who is voting for Obama?\n",
      "12937 0.9240016937255859\n",
      " Just signed contract to purchase the Ritz Carlton in Jupiter, Florida--great land, great location, great future!\n",
      "4425 0.9238083362579346\n",
      " One of the greatest tributes to a father I have ever witnessed--given to the great @jacknicklaus by his wonderful son http://www.c-span.org/video/?c4532989 \n",
      "14997 0.9212091565132141\n",
      " Just signed contract to purchase the Ritz Carlton in Jupiter, Florida--great land, great location, great future!\n",
      "10099 0.9205939769744873\n",
      " \"@FKTrey: Putting on the @realDonaldTrump tie is an essential to my morning routine\"   That's great!\n",
      "12088 0.9197784066200256\n",
      " @markrucci @e_hig  Great going Mark.\n",
      "14666 0.9189987182617188\n",
      " @ImYourChloe She is also great!\n",
      "10058 0.9177112579345703\n",
      " \"@Adw5Weber: @realDonaldTrump thanks for the books you've written inspires me to take some risks and think big!!\"  Great.\n",
      "14762 0.9131572246551514\n",
      " Great knockout on Saturday by Juan Manuel Marquez on Manny Pacquiao.  A great fight!\n",
      "9952 0.9122504591941833\n",
      " .@AndreaTantaros’s radio show is a great addition to talk radio. She is sharp, talented, & great sense of humor. Congratulations.\n"
     ]
    }
   ],
   "source": [
    "tweet_ori = list(data['ori_tweet'])\n",
    "strl=u'you are so great'\n",
    "test_text=strl.split(' ')\n",
    "inferred_vector=model_test.infer_vector(doc_words=test_text,alpha=0.025,steps=500)\n",
    "sims=model_test.docvecs.most_similar([inferred_vector],topn=20)\n",
    "\n",
    "for count,sim in sims:\n",
    "    print(count,sim)\n",
    "    sentence = tweet_ori[count]\n",
    "    words=' '\n",
    "    \n",
    "    for word in sentence:\n",
    "        words = words + word+''\n",
    "        \n",
    "    print(words)"
   ]
  }
 ],
 "metadata": {
  "kernelspec": {
   "display_name": "Python 3",
   "language": "python",
   "name": "python3"
  },
  "language_info": {
   "codemirror_mode": {
    "name": "ipython",
    "version": 3
   },
   "file_extension": ".py",
   "mimetype": "text/x-python",
   "name": "python",
   "nbconvert_exporter": "python",
   "pygments_lexer": "ipython3",
   "version": "3.6.4"
  }
 },
 "nbformat": 4,
 "nbformat_minor": 2
}
